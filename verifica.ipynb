{
 "cells": [
  {
   "cell_type": "code",
   "execution_count": 1,
   "id": "9d31144b",
   "metadata": {},
   "outputs": [
    {
     "name": "stdout",
     "output_type": "stream",
     "text": [
      "CUDA disponibile: True\n",
      "Versione PyTorch: 2.5.1+cu121\n",
      "Versione CUDA in PyTorch: 12.1\n"
     ]
    }
   ],
   "source": [
    "import torch\n",
    "\n",
    "print(\"CUDA disponibile:\", torch.cuda.is_available())\n",
    "print(\"Versione PyTorch:\", torch.__version__)\n",
    "print(\"Versione CUDA in PyTorch:\", torch.version.cuda)"
   ]
  },
  {
   "cell_type": "code",
   "execution_count": 1,
   "id": "9544930a",
   "metadata": {},
   "outputs": [
    {
     "name": "stderr",
     "output_type": "stream",
     "text": [
      "/Library/Frameworks/Python.framework/Versions/3.12/lib/python3.12/site-packages/transformers/models/vit/feature_extraction_vit.py:28: FutureWarning: The class ViTFeatureExtractor is deprecated and will be removed in version 5 of Transformers. Please use ViTImageProcessor instead.\n",
      "  warnings.warn(\n",
      "Some weights of ViTModel were not initialized from the model checkpoint at google/vit-base-patch16-224 and are newly initialized: ['pooler.dense.bias', 'pooler.dense.weight']\n",
      "You should probably TRAIN this model on a down-stream task to be able to use it for predictions and inference.\n"
     ]
    },
    {
     "name": "stdout",
     "output_type": "stream",
     "text": [
      "\n",
      "Processing folder: ./dataverse_files/ISIC2018_Task3_Test_Images\n"
     ]
    },
    {
     "name": "stderr",
     "output_type": "stream",
     "text": [
      "100%|██████████| 1511/1511 [01:58<00:00, 12.73it/s]\n"
     ]
    },
    {
     "name": "stdout",
     "output_type": "stream",
     "text": [
      "\n",
      "Dataset salvato in: features_skin_lesion_test.csv\n"
     ]
    }
   ],
   "source": [
    "import os\n",
    "from PIL import Image\n",
    "import numpy as np\n",
    "import pandas as pd\n",
    "from tqdm import tqdm\n",
    "from vision_embeddings import VisionEmbeddings\n",
    "\n",
    "def load_images_from_folder(folder):\n",
    "    images = []\n",
    "    filenames = []\n",
    "    for filename in os.listdir(folder):\n",
    "        if filename.lower().endswith(('.png', '.jpg', '.jpeg')):\n",
    "            path = os.path.join(folder, filename)\n",
    "            try:\n",
    "                img = Image.open(path).convert(\"RGB\")\n",
    "                images.append(img)\n",
    "                filenames.append(filename)\n",
    "            except Exception as e:\n",
    "                print(f\"Errore con immagine {filename}: {e}\")\n",
    "    return images, filenames\n",
    "\n",
    "def main():\n",
    "    folders = [\n",
    "        \"./dataverse_files/ISIC2018_Task3_Test_Images\"\n",
    "    ]\n",
    "\n",
    "    metadata_path = \"./dataverse_files/ISIC2018_Task3_Test_GroundTruth.csv\"\n",
    "    metadata = pd.read_csv(metadata_path)\n",
    "    image_to_label = dict(zip(metadata[\"image_id\"], metadata[\"dx\"]))\n",
    "\n",
    "    embedder = VisionEmbeddings(device='cpu')\n",
    "\n",
    "    dataset_rows = []\n",
    "\n",
    "    for folder in folders:\n",
    "        print(f\"\\nProcessing folder: {folder}\")\n",
    "        images, filenames = load_images_from_folder(folder)\n",
    "\n",
    "        for img, fname in tqdm(zip(images, filenames), total=len(images)):\n",
    "            image_id = os.path.splitext(fname)[0]\n",
    "            label = image_to_label.get(image_id)\n",
    "            if label is None:\n",
    "                print(f\"Label mancante per: {image_id}, saltato.\")\n",
    "                continue\n",
    "\n",
    "            features = embedder.extract(img).flatten()\n",
    "            row = list(features) + [fname, label]\n",
    "            dataset_rows.append(row)\n",
    "\n",
    "    num_features = len(dataset_rows[0]) - 2\n",
    "    columns = [f\"feature_{i}\" for i in range(num_features)] + [\"filename\", \"label\"]\n",
    "    df = pd.DataFrame(dataset_rows, columns=columns)\n",
    "\n",
    "    df.to_csv(\"features_skin_lesion_test.csv\", index=False)\n",
    "    print(\"\\nDataset salvato in: features_skin_lesion_test.csv\")\n",
    "\n",
    "if __name__ == \"__main__\":\n",
    "    main()\n"
   ]
  }
 ],
 "metadata": {
  "kernelspec": {
   "display_name": "Python 3",
   "language": "python",
   "name": "python3"
  },
  "language_info": {
   "codemirror_mode": {
    "name": "ipython",
    "version": 3
   },
   "file_extension": ".py",
   "mimetype": "text/x-python",
   "name": "python",
   "nbconvert_exporter": "python",
   "pygments_lexer": "ipython3",
   "version": "3.12.2"
  }
 },
 "nbformat": 4,
 "nbformat_minor": 5
}
